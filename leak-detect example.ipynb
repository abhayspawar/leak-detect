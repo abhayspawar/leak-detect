{
 "cells": [
  {
   "cell_type": "code",
   "execution_count": 4,
   "metadata": {},
   "outputs": [],
   "source": [
    "import pandas as pd\n",
    "import numpy as np\n",
    "from leak_detect import detect_vertical_leakage, detect_horizontal_leakage\n",
    "# to read all parameter descriptions\n",
    "# ?detect_vertical_leakage"
   ]
  },
  {
   "cell_type": "code",
   "execution_count": 7,
   "metadata": {},
   "outputs": [],
   "source": [
    "# Data source (Alphavantage API): https://www.alphavantage.co/documentation/\n",
    "data = pd.read_csv('data/daily_adjusted_AAPL.csv')\n",
    "# predict price after 5 days\n",
    "prediction_window = 5\n",
    "data['target'] = data['open'].shift(-prediction_window) \n"
   ]
  },
  {
   "cell_type": "markdown",
   "metadata": {},
   "source": [
    "## Vertical leakge"
   ]
  },
  {
   "cell_type": "code",
   "execution_count": 8,
   "metadata": {},
   "outputs": [],
   "source": [
    "# Data creation function\n",
    "def create_features(data_input):\n",
    "    data = data_input.copy()\n",
    "    # past 5 day return\n",
    "    close_5days_before = data['close'].shift(5)\n",
    "    data['return_5day'] = (data['close'] - close_5days_before)/close_5days_before\n",
    "    \n",
    "    # past 2 day return. Leaky uses price after 2 days\n",
    "    close_2days_before = data['close'].shift(-2) \n",
    "    data['return_2day_leaky'] = (data['close'] - close_2days_before)/close_2days_before\n",
    "    data['open_10day_before_leaky'] = data['open'].shift(-10)\n",
    "    \n",
    "    return data"
   ]
  },
  {
   "cell_type": "code",
   "execution_count": 9,
   "metadata": {},
   "outputs": [
    {
     "name": "stdout",
     "output_type": "stream",
     "text": [
      "Checking for vertical leakage in upward direction...\n",
      "By replacing 'input_feature_cols' after row number 2516 with NANs:\n",
      "Oops vertical leakage detected!!\n",
      "List of columns and number of previous rows into which data is leaking from a row:\n",
      "return_2day_leaky : 2\n",
      "open_10day_before_leaky : 10\n",
      "\n",
      "\n",
      "By adding imaginary component to 'input_feature_cols' after row number 2516:\n",
      "Oops vertical leakage detected!!\n",
      "List of columns and number of previous rows into which data is leaking from a row:\n",
      "return_2day_leaky : 2\n",
      "open_10day_before_leaky : 10\n",
      "\n",
      "\n"
     ]
    },
    {
     "data": {
      "text/plain": [
       "True"
      ]
     },
     "execution_count": 9,
     "metadata": {},
     "output_type": "execute_result"
    }
   ],
   "source": [
    "input_feature_cols = ['open', 'high', 'low', 'close']\n",
    "output_feature_cols = ['return_5day', 'return_2day_leaky', 'open_10day_before_leaky']\n",
    "detect_vertical_leakage(create_features, data, input_feature_cols, output_feature_cols, only_nan=False, \n",
    "                       direction='upward')"
   ]
  },
  {
   "cell_type": "code",
   "execution_count": 12,
   "metadata": {},
   "outputs": [],
   "source": [
    "# Example where NANs are replaced with a value. Using NANs doesn't detect any leakage, but using complex numbers \n",
    "# we are able to detect leakage."
   ]
  },
  {
   "cell_type": "code",
   "execution_count": 13,
   "metadata": {},
   "outputs": [],
   "source": [
    "def create_features(data_input):\n",
    "    data = data_input.copy()\n",
    "    # past 5 day return\n",
    "    close_5days_before = data['close'].shift(5)\n",
    "    data['return_5day'] = (data['close'] - close_5days_before)/close_5days_before\n",
    "    \n",
    "    # past 2 day return. Leaky uses price after 2 days\n",
    "    close_2days_before = data['close'].shift(-2)\n",
    "    data['return_2day_leaky'] = ((data['close'] - close_2days_before)/close_2days_before).fillna(0.1)\n",
    "    data['open_10day_before_leaky'] = data['open'].shift(-10).fillna(100)\n",
    "    \n",
    "    return data"
   ]
  },
  {
   "cell_type": "code",
   "execution_count": 14,
   "metadata": {},
   "outputs": [
    {
     "name": "stdout",
     "output_type": "stream",
     "text": [
      "Checking for vertical leakage in upward direction...\n",
      "By replacing 'input_feature_cols' after row number 2516 with NANs:\n",
      "No vertical leakage detected. Good to go! Yay!!\n",
      "\n",
      "\n",
      "By adding imaginary component to 'input_feature_cols' after row number 2516:\n",
      "Oops vertical leakage detected!!\n",
      "List of columns and number of previous rows into which data is leaking from a row:\n",
      "return_2day_leaky : 2\n",
      "open_10day_before_leaky : 10\n",
      "\n",
      "\n"
     ]
    },
    {
     "data": {
      "text/plain": [
       "True"
      ]
     },
     "execution_count": 14,
     "metadata": {},
     "output_type": "execute_result"
    }
   ],
   "source": [
    "input_feature_cols = ['open', 'high', 'low', 'close']\n",
    "output_feature_cols = ['return_5day', 'return_2day_leaky', 'open_10day_before_leaky']\n",
    "detect_vertical_leakage(create_features, data, input_feature_cols, output_feature_cols, only_nan=False, \n",
    "                       direction='upward')"
   ]
  },
  {
   "cell_type": "markdown",
   "metadata": {},
   "source": [
    "## Horizontal leakge"
   ]
  },
  {
   "cell_type": "code",
   "execution_count": 15,
   "metadata": {},
   "outputs": [],
   "source": [
    "data = pd.read_csv('data/daily_adjusted_AAPL.csv')\n",
    "# predict price after 5 days\n",
    "prediction_window = 5\n",
    "data['target'] = data['open'].shift(-prediction_window) \n"
   ]
  },
  {
   "cell_type": "code",
   "execution_count": 16,
   "metadata": {},
   "outputs": [],
   "source": [
    "# Data creation function\n",
    "def create_features(data_input):\n",
    "    data = data_input.copy()\n",
    "    # past 2 and 5 day return\n",
    "    close_5days_before = data['close'].shift(5)\n",
    "    close_2days_before = data['close'].shift(2)\n",
    "    \n",
    "    data['return_5day'] = (data['close'] - close_5days_before)/close_5days_before\n",
    "    data['return_2day'] = (data['close'] - close_2days_before)/close_2days_before\n",
    "    \n",
    "    # leaky feature which uses target column\n",
    "    data['open_1day_before_leaky'] = data['target'].shift(-1)\n",
    "    \n",
    "    return data\n"
   ]
  },
  {
   "cell_type": "code",
   "execution_count": 17,
   "metadata": {},
   "outputs": [],
   "source": [
    "target_cols = ['target']\n",
    "input_feature_cols = ['open', 'high', 'low', 'close']\n",
    "output_feature_cols = ['return_5day', 'return_2day', 'open_1day_before_leaky']\n"
   ]
  },
  {
   "cell_type": "code",
   "execution_count": 19,
   "metadata": {
    "code_folding": []
   },
   "outputs": [
    {
     "name": "stdout",
     "output_type": "stream",
     "text": [
      "Checking for leakage from target columns to feature columns...\n",
      "By replacing target with NANs:\n",
      "Oops horizontal leakage detected!! \n",
      "List of columns and their respective number of rows with leaky data:\n",
      "open_1day_before_leaky : 5027\n",
      "\n",
      "\n",
      "By adding imaginary component to target columns:\n",
      "Oops horizontal leakage detected!! \n",
      "List of columns and their respective number of rows with leaky data:\n",
      "open_1day_before_leaky : 5027\n",
      "\n",
      "\n",
      "---------------------------------------------------------------------------\n",
      "Checking for leakage from input feature columns to target columns...\n",
      "By replacing input feature columns with NANs:\n",
      "No horizontal leakage detected. Good to go! Yay!!\n",
      "\n",
      "\n",
      "By adding imaginary component to input feature columns:\n",
      "No horizontal leakage detected. Good to go! Yay!!\n",
      "\n",
      "\n"
     ]
    },
    {
     "data": {
      "text/plain": [
       "True"
      ]
     },
     "execution_count": 19,
     "metadata": {},
     "output_type": "execute_result"
    }
   ],
   "source": [
    "# checks for leakage from target cols to feature cols and from input feature cols to target cols\n",
    "detect_horizontal_leakage(create_features, data, target_cols, output_feature_cols, input_feature_cols)"
   ]
  },
  {
   "cell_type": "code",
   "execution_count": null,
   "metadata": {},
   "outputs": [],
   "source": []
  }
 ],
 "metadata": {
  "kernelspec": {
   "display_name": "Python 3",
   "language": "python",
   "name": "python3"
  },
  "language_info": {
   "codemirror_mode": {
    "name": "ipython",
    "version": 3
   },
   "file_extension": ".py",
   "mimetype": "text/x-python",
   "name": "python",
   "nbconvert_exporter": "python",
   "pygments_lexer": "ipython3",
   "version": "3.7.7"
  }
 },
 "nbformat": 4,
 "nbformat_minor": 4
}
