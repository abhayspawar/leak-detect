{
 "cells": [
  {
   "cell_type": "code",
   "execution_count": 1,
   "metadata": {},
   "outputs": [],
   "source": [
    "import pandas as pd\n",
    "import numpy as np\n",
    "import importlib\n",
    "from leak_detect.base import * "
   ]
  },
  {
   "cell_type": "code",
   "execution_count": 19,
   "metadata": {},
   "outputs": [
    {
     "data": {
      "text/plain": [
       "<module 'leak_detect.base' from '/Users/abhaypawar/Documents/projects/leak_detection/leak-detect/leak_detect/base.py'>"
      ]
     },
     "execution_count": 19,
     "metadata": {},
     "output_type": "execute_result"
    }
   ],
   "source": [
    "#import leak_detect.base\n",
    "#importlib.reload(leak_detect.base) #doesnt work\n",
    "#?detect_vertical_leakage# "
   ]
  },
  {
   "cell_type": "code",
   "execution_count": 2,
   "metadata": {},
   "outputs": [],
   "source": [
    "data = pd.read_csv('data/daily_adjusted_AAPL.csv')\n",
    "prediction_window = 5\n",
    "data['target'] = data['open'].shift(-prediction_window)\n"
   ]
  },
  {
   "cell_type": "markdown",
   "metadata": {},
   "source": [
    "## Horizontal leakge"
   ]
  },
  {
   "cell_type": "code",
   "execution_count": 6,
   "metadata": {},
   "outputs": [],
   "source": [
    "# Data creation function\n",
    "def create_features(data_input):\n",
    "    data = data_input.copy()\n",
    "    # past 2 and 5 day return\n",
    "    close_5days_before = data['close'].shift(5)\n",
    "    close_2days_before = data['close'].shift(2)\n",
    "    \n",
    "    data['return_5day'] = (data['close'] - close_5days_before)/close_5days_before\n",
    "    data['return_2day'] = (data['close'] - close_2days_before)/close_2days_before\n",
    "    data['open_1day_before_leaky'] = data['open'].shift(-1)\n",
    "    data['target'] = data['close']*3\n",
    "    \n",
    "    return data\n"
   ]
  },
  {
   "cell_type": "code",
   "execution_count": null,
   "metadata": {},
   "outputs": [],
   "source": [
    "target_cols = ['target']\n",
    "input_feature_cols = ['open', 'high', 'low', 'close']\n",
    "output_feature_cols = ['return_5day', 'return_2day', 'open_1day_before_leaky']\n"
   ]
  },
  {
   "cell_type": "code",
   "execution_count": 7,
   "metadata": {
    "code_folding": []
   },
   "outputs": [
    {
     "name": "stdout",
     "output_type": "stream",
     "text": [
      "Checking for leakage from target columns to feature columns...\n",
      "By replacing target with NANs:\n",
      "No horizontal leakage detected. Good to go! Yay!!\n",
      "\n",
      "\n",
      "By adding imaginary component to target columns:\n",
      "No horizontal leakage detected. Good to go! Yay!!\n",
      "\n",
      "\n",
      "---------------------------------------------------------------------------\n",
      "Checking for leakage from input feature columns to target columns...\n",
      "By replacing input feature columns with NANs:\n",
      "Oops horizontal leakage detected!! \n",
      "List of columns and their respective number of rows with leaky data:\n",
      "target : 5033\n",
      "\n",
      "\n",
      "By adding imaginary component to input feature columns:\n",
      "Oops horizontal leakage detected!! \n",
      "List of columns and their respective number of rows with leaky data:\n",
      "target : 5033\n",
      "\n",
      "\n"
     ]
    },
    {
     "data": {
      "text/plain": [
       "True"
      ]
     },
     "execution_count": 7,
     "metadata": {},
     "output_type": "execute_result"
    }
   ],
   "source": [
    "detect_horizontal_leakage(create_features, data, target_cols, output_feature_cols, input_feature_cols)"
   ]
  },
  {
   "cell_type": "markdown",
   "metadata": {},
   "source": [
    "## Vertical leakge"
   ]
  },
  {
   "cell_type": "code",
   "execution_count": 14,
   "metadata": {},
   "outputs": [],
   "source": [
    "# Data creation function\n",
    "def create_features(data_input):\n",
    "    data = data_input.copy()\n",
    "    # past 2 and 5 day return\n",
    "    close_5days_before = data['close'].shift(-4)\n",
    "    close_2days_before = data['close'].shift(-22)\n",
    "    \n",
    "    data['return_5day'] = (data['close'] - close_5days_before)/close_5days_before\n",
    "    data['return_2day'] = (data['close'] - close_2days_before)/close_2days_before\n",
    "    data['open_1day_before_leaky'] = data['open'].shift(1)\n",
    "    data['target'] = data['close'].shift(1)*3\n",
    "    return data\n"
   ]
  },
  {
   "cell_type": "code",
   "execution_count": 15,
   "metadata": {},
   "outputs": [],
   "source": [
    "input_feature_cols = ['open', 'high', 'low', 'close', 'target']\n",
    "output_feature_cols = ['return_5day', 'return_2day', 'open_1day_before_leaky', 'target']\n",
    "check_row_number = -1\n"
   ]
  },
  {
   "cell_type": "code",
   "execution_count": 18,
   "metadata": {},
   "outputs": [
    {
     "name": "stdout",
     "output_type": "stream",
     "text": [
      "Checking for vertical leakage in upward direction...\n",
      "By replacing 'input_feature_cols' after row number 2516 with NANs:\n",
      "Oops vertical leakage detected!!\n",
      "List of columns and number of previous rows into which data is leaking from a row:\n",
      "return_5day : 4\n",
      "return_2day : 22\n",
      "\n",
      "\n",
      "By adding imaginary component to 'input_feature_cols' after row number 2516:\n",
      "Oops vertical leakage detected!!\n",
      "List of columns and number of previous rows into which data is leaking from a row:\n",
      "return_5day : 4\n",
      "return_2day : 22\n",
      "\n",
      "\n"
     ]
    },
    {
     "data": {
      "text/plain": [
       "True"
      ]
     },
     "execution_count": 18,
     "metadata": {},
     "output_type": "execute_result"
    }
   ],
   "source": [
    "detect_vertical_leakage(create_features, data, input_feature_cols, output_feature_cols, only_nan=False, \n",
    "                       direction='upward', check_row_number=-1)\n"
   ]
  },
  {
   "cell_type": "code",
   "execution_count": null,
   "metadata": {},
   "outputs": [],
   "source": []
  },
  {
   "cell_type": "code",
   "execution_count": null,
   "metadata": {},
   "outputs": [],
   "source": []
  }
 ],
 "metadata": {
  "kernelspec": {
   "display_name": "Python 3",
   "language": "python",
   "name": "python3"
  },
  "language_info": {
   "codemirror_mode": {
    "name": "ipython",
    "version": 3
   },
   "file_extension": ".py",
   "mimetype": "text/x-python",
   "name": "python",
   "nbconvert_exporter": "python",
   "pygments_lexer": "ipython3",
   "version": "3.7.7"
  }
 },
 "nbformat": 4,
 "nbformat_minor": 4
}
