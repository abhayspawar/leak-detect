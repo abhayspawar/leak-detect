{
 "cells": [
  {
   "cell_type": "code",
   "execution_count": 4,
   "metadata": {},
   "outputs": [
    {
     "name": "stdout",
     "output_type": "stream",
     "text": [
      "<class 'pandas.core.frame.DataFrame'>\n",
      "RangeIndex: 5033 entries, 0 to 5032\n",
      "Data columns (total 9 columns):\n",
      " #   Column             Non-Null Count  Dtype  \n",
      "---  ------             --------------  -----  \n",
      " 0   timestamp          5033 non-null   object \n",
      " 1   open               5033 non-null   float64\n",
      " 2   high               5033 non-null   float64\n",
      " 3   low                5033 non-null   float64\n",
      " 4   close              5033 non-null   float64\n",
      " 5   adjusted_close     5033 non-null   float64\n",
      " 6   volume             5033 non-null   int64  \n",
      " 7   dividend_amount    5033 non-null   float64\n",
      " 8   split_coefficient  5033 non-null   float64\n",
      "dtypes: float64(7), int64(1), object(1)\n",
      "memory usage: 354.0+ KB\n"
     ]
    }
   ],
   "source": [
    "import pandas as pd\n",
    "data = pd.read_csv('../daily_adjusted_AAPL.csv')\n",
    "data.info()"
   ]
  },
  {
   "cell_type": "code",
   "execution_count": 9,
   "metadata": {},
   "outputs": [],
   "source": [
    "# target: Close price after 5 days:\n",
    "data['target'] = data['close'].shift(-5)\n",
    "\n",
    "# feature: close price 5 days back:\n",
    "data['close_5d_back'] = data['close'].shift(5)\n",
    "\n",
    "# Instead of using +5, you used -5 and created this leaky feature:\n",
    "data['close_5d_back_leaky'] = data['close'].shift(-5)"
   ]
  }
 ],
 "metadata": {
  "kernelspec": {
   "display_name": "Python 3",
   "language": "python",
   "name": "python3"
  },
  "language_info": {
   "codemirror_mode": {
    "name": "ipython",
    "version": 3
   },
   "file_extension": ".py",
   "mimetype": "text/x-python",
   "name": "python",
   "nbconvert_exporter": "python",
   "pygments_lexer": "ipython3",
   "version": "3.7.7"
  }
 },
 "nbformat": 4,
 "nbformat_minor": 4
}
